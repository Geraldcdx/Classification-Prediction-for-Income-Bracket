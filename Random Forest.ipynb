{
 "cells": [
  {
   "cell_type": "markdown",
   "id": "5aeee2f9",
   "metadata": {},
   "source": [
    "Variant 2\n",
    "In this variant, you will compare two existing implementations of classifiers. You can choose any two\n",
    "existing implementations of classification models. Train and test them on the dataset provided in the\n",
    "beginning. Compare the two models using techniques for classification model comparison."
   ]
  },
  {
   "cell_type": "markdown",
   "id": "72ea1820",
   "metadata": {},
   "source": [
    "Reporting\n",
    "Your submission for this assignment is a single PDF file with a report on the assignment. Your report\n",
    "should be no longer than two pages. Somewhere at the top of the first page should be: your matric\n",
    "number, full name, and a line “IN6227-2023-Assignment-1.2”. The only requirement for report\n",
    "formatting is that it is readable, otherwise you are free to arrange information in any way you prefer.\n",
    "Make sure to provide full performance comparison for the two models including the time it took to\n",
    "train and apply the model. Explain all decisions you make along the way, e.g., how you fine-tune\n",
    "model hyper-parameters, how you work with missing values, what is the stopping criterion, etc. If\n",
    "you do any data pre-processing, please explain what and why was done.\n",
    "Please upload your source code to GitHub and provide the repository link in the report.\n",
    "Submission\n",
    "Submission should be done in NTULearn. Access the assignment submission page through the left\n",
    "navigation bar by selecting “Assignments”. Submit a single PDF file. Submissions are accepted up to\n",
    "Friday, 3\n",
    "rd March 2023, 23:59:59"
   ]
  },
  {
   "cell_type": "code",
   "execution_count": 30,
   "id": "a6365735",
   "metadata": {},
   "outputs": [],
   "source": [
    "import pandas as pd\n",
    "import numpy as np\n",
    "#for random forest\n",
    "from sklearn import tree\n",
    "from sklearn.preprocessing import LabelEncoder\n",
    "from sklearn.model_selection import cross_val_score\n",
    "from sklearn.ensemble import RandomForestClassifier\n",
    "#Preprocessing libraries\n",
    "from sklearn.decomposition import PCA\n",
    "from sklearn.preprocessing import StandardScaler\n",
    "from sklearn.model_selection import RandomizedSearchCV\n",
    "\n",
    "#https://archive.ics.uci.edu/ml/datasets/Census%2BIncome\n",
    "headers = [\n",
    "    'age','workclass', 'fnlwgt', 'education', 'edu-num', 'martial-status', 'occupation',\n",
    "    'relationship', 'race', 'sex', 'capital-gain', 'capital-loss', 'hours-per-week', 'native-country' , 'label'     \n",
    "          ]\n",
    "data =  pd.read_csv('adult.data', sep=\",\", names = headers) \n",
    "data.columns\n",
    "\n",
    "#get test data\n",
    "test =  pd.read_csv('adult.test', sep=\",\", names = headers)\n",
    "test = test.iloc[1: , :] #get rid of first row"
   ]
  },
  {
   "cell_type": "code",
   "execution_count": 33,
   "id": "4990859e",
   "metadata": {},
   "outputs": [],
   "source": [
    "def preprocessing(data,pca_num, pca = False): #data is encoded, scaled and conducted PCA\n",
    "    #encode the data\n",
    "    encoder = LabelEncoder()\n",
    "    for col in data.columns:\n",
    "        data[col] = encoder.fit_transform(data[col])\n",
    "    #split data set into features and label\n",
    "    labels = data['label']\n",
    "    features = data.drop(\"label\", axis = 'columns')\n",
    "    features = features\n",
    "    #scale the data\n",
    "    features = StandardScaler().fit_transform(features)\n",
    "    #apply PCA\n",
    "    if (pca):\n",
    "        length_of_PCA = pca_num\n",
    "        PCA_columns = []\n",
    "        for num in range(1, length_of_PCA + 1):\n",
    "            PCA_columns.append('principal component ' + str(num)) \n",
    "        pca = PCA(n_components= length_of_PCA)\n",
    "        features = pca.fit_transform(features)\n",
    "    return features,labels"
   ]
  },
  {
   "cell_type": "code",
   "execution_count": 34,
   "id": "d20c212e",
   "metadata": {},
   "outputs": [],
   "source": [
    "component_num = 14\n",
    "features, labels = preprocessing(data,component_num)\n",
    "test_features,test_labels = preprocessing(test,component_num)"
   ]
  },
  {
   "cell_type": "code",
   "execution_count": 35,
   "id": "59fd113e",
   "metadata": {},
   "outputs": [
    {
     "name": "stdout",
     "output_type": "stream",
     "text": [
      "RF-gini Accuracy (score): 0.8465081997420306\n"
     ]
    }
   ],
   "source": [
    "#Random Forest Model\n",
    "clf_gini = RandomForestClassifier(n_estimators=10, criterion='gini')\n",
    "clf_gini.fit(features, labels)\n",
    "result = clf_gini.predict(test_features)\n",
    "print (\"RF-gini Accuracy (score): \" + str(clf_gini.score(test_features,test_labels)))"
   ]
  },
  {
   "cell_type": "code",
   "execution_count": 39,
   "id": "4d6efdff",
   "metadata": {},
   "outputs": [],
   "source": [
    "#looping Model Training with different PCA values, random forest with pca doesnt really do much\n",
    "def loopTraining(component_num):\n",
    "    features, labels = preprocessing(data,component_num, pca = True)\n",
    "    test_features,test_labels = preprocessing(test,component_num, pca = True)\n",
    "    #Random Forest Model\n",
    "    clf_gini = RandomForestClassifier(n_estimators=10, criterion='gini')\n",
    "    clf_gini.fit(features, labels)\n",
    "    #result = clf_gini.predict(test_features)\n",
    "    print (\"For Component number: \", component_num,\",RF-gini Accuracy (score): \" + str(clf_gini.score(test_features,test_labels)))"
   ]
  },
  {
   "cell_type": "code",
   "execution_count": 40,
   "id": "1857b998",
   "metadata": {},
   "outputs": [
    {
     "name": "stdout",
     "output_type": "stream",
     "text": [
      "For Component number:  1 ,RF-gini Accuracy (score): 0.5877403107917204\n",
      "For Component number:  2 ,RF-gini Accuracy (score): 0.6137215158774031\n",
      "For Component number:  3 ,RF-gini Accuracy (score): 0.6230575517474357\n",
      "For Component number:  4 ,RF-gini Accuracy (score): 0.6100976598489036\n",
      "For Component number:  5 ,RF-gini Accuracy (score): 0.6167311590197162\n",
      "For Component number:  6 ,RF-gini Accuracy (score): 0.7128554757078803\n",
      "For Component number:  7 ,RF-gini Accuracy (score): 0.7019224863337633\n",
      "For Component number:  8 ,RF-gini Accuracy (score): 0.7053620784964069\n",
      "For Component number:  9 ,RF-gini Accuracy (score): 0.7142067440574903\n",
      "For Component number:  10 ,RF-gini Accuracy (score): 0.6935077697930102\n",
      "For Component number:  11 ,RF-gini Accuracy (score): 0.6969473619556539\n",
      "For Component number:  12 ,RF-gini Accuracy (score): 0.6919108162889257\n",
      "For Component number:  13 ,RF-gini Accuracy (score): 0.7390823659480376\n",
      "For Component number:  14 ,RF-gini Accuracy (score): 0.7512437810945274\n"
     ]
    }
   ],
   "source": [
    "for num in range(1,15):\n",
    "    loopTraining(num)"
   ]
  },
  {
   "cell_type": "code",
   "execution_count": 41,
   "id": "9d77c501",
   "metadata": {},
   "outputs": [
    {
     "name": "stdout",
     "output_type": "stream",
     "text": [
      "Fitting 5 folds for each of 100 candidates, totalling 500 fits\n",
      "Random grid:  {'n_estimators': [5, 20, 50, 100], 'max_features': ['auto', 'sqrt'], 'max_depth': [10, 20, 30, 40, 50, 60, 70, 80, 90, 100, 110, 120], 'min_samples_split': [2, 6, 10], 'min_samples_leaf': [1, 3, 4], 'bootstrap': [True, False]} \n",
      "\n",
      "Best Parameters:  {'n_estimators': 100, 'min_samples_split': 6, 'min_samples_leaf': 4, 'max_features': 'sqrt', 'max_depth': 120, 'bootstrap': False}  \n",
      "\n"
     ]
    }
   ],
   "source": [
    "#employing random search to determine the best tuning parameters to see if accuracy can improve\n",
    "n_estimators = [5,20,50,100] # number of trees in the random forest\n",
    "max_features = ['auto', 'sqrt'] # number of features in consideration at every split\n",
    "max_depth = [int(x) for x in np.linspace(10, 120, num = 12)] # maximum number of levels allowed in each decision tree\n",
    "min_samples_split = [2, 6, 10] # minimum sample number to split a node\n",
    "min_samples_leaf = [1, 3, 4] # minimum sample number that can be stored in a leaf node\n",
    "bootstrap = [True, False] # method used to sample data points\n",
    "\n",
    "random_grid = {'n_estimators': n_estimators,\n",
    "\n",
    "'max_features': max_features,\n",
    "\n",
    "'max_depth': max_depth,\n",
    "\n",
    "'min_samples_split': min_samples_split,\n",
    "\n",
    "'min_samples_leaf': min_samples_leaf,\n",
    "\n",
    "'bootstrap': bootstrap}\n",
    "rf = RandomForestClassifier()\n",
    "rf_random = RandomizedSearchCV(estimator = rf,param_distributions = random_grid,\n",
    "               n_iter = 100, cv = 5, verbose=2, random_state=35, n_jobs = -1)\n",
    "rf_random.fit(features, labels)\n",
    "print ('Random grid: ', random_grid, '\\n')\n",
    "# print the best parameters\n",
    "print ('Best Parameters: ', rf_random.best_params_, ' \\n')"
   ]
  },
  {
   "cell_type": "code",
   "execution_count": 42,
   "id": "80a3b04b",
   "metadata": {},
   "outputs": [
    {
     "data": {
      "text/plain": [
       "RandomForestClassifier(bootstrap=False, max_depth=120, max_features='sqrt',\n",
       "                       min_samples_leaf=4, min_samples_split=6)"
      ]
     },
     "execution_count": 42,
     "metadata": {},
     "output_type": "execute_result"
    }
   ],
   "source": [
    "paras = rf_random.best_params_\n",
    "randmf = RandomForestClassifier(n_estimators = paras['n_estimators']\n",
    "                               , min_samples_split = paras['min_samples_split'],\n",
    "                               min_samples_leaf= paras['min_samples_leaf'],\n",
    "                               max_features = paras['max_features'],\n",
    "                               max_depth= paras['max_depth'], bootstrap=paras['bootstrap']) \n",
    "randmf.fit(features, labels) "
   ]
  },
  {
   "cell_type": "code",
   "execution_count": 43,
   "id": "bcb141f7",
   "metadata": {},
   "outputs": [
    {
     "data": {
      "text/plain": [
       "0.8603894109698421"
      ]
     },
     "execution_count": 43,
     "metadata": {},
     "output_type": "execute_result"
    }
   ],
   "source": [
    "randmf.score(test_features,test_labels)"
   ]
  }
 ],
 "metadata": {
  "kernelspec": {
   "display_name": "Python 3 (ipykernel)",
   "language": "python",
   "name": "python3"
  },
  "language_info": {
   "codemirror_mode": {
    "name": "ipython",
    "version": 3
   },
   "file_extension": ".py",
   "mimetype": "text/x-python",
   "name": "python",
   "nbconvert_exporter": "python",
   "pygments_lexer": "ipython3",
   "version": "3.9.13"
  }
 },
 "nbformat": 4,
 "nbformat_minor": 5
}
